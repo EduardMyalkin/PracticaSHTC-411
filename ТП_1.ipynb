{
  "nbformat": 4,
  "nbformat_minor": 0,
  "metadata": {
    "colab": {
      "provenance": [],
      "authorship_tag": "ABX9TyOXUJ0b/lHGnRAfCgPXAzRw",
      "include_colab_link": true
    },
    "kernelspec": {
      "name": "python3",
      "display_name": "Python 3"
    },
    "language_info": {
      "name": "python"
    }
  },
  "cells": [
    {
      "cell_type": "markdown",
      "metadata": {
        "id": "view-in-github",
        "colab_type": "text"
      },
      "source": [
        "<a href=\"https://colab.research.google.com/github/EduardMyalkin/PracticaSHTC-411/blob/main/%D0%A2%D0%9F_1.ipynb\" target=\"_parent\"><img src=\"https://colab.research.google.com/assets/colab-badge.svg\" alt=\"Open In Colab\"/></a>"
      ]
    },
    {
      "cell_type": "code",
      "execution_count": 5,
      "metadata": {
        "colab": {
          "base_uri": "https://localhost:8080/"
        },
        "id": "Af3YL_hCwzHT",
        "outputId": "9d117275-3a3f-41d4-aab3-f85a0e5da63b"
      },
      "outputs": [
        {
          "output_type": "stream",
          "name": "stdout",
          "text": [
            "Координаты точек:\n",
            "Точка 1: 55.984722, 122.635172 \n",
            "Точка 2: 66.093328, 171.079442 \n",
            "\n",
            "Результаты вычислений:\n",
            "По теореме Пифагора: 49.63 км\n",
            "По теореме косинусов: 2751.86 км\n",
            "По формуле гаверсинусов: 2751.86 км\n"
          ]
        }
      ],
      "source": [
        "import math\n",
        "\n",
        "def calculate_distance_pythagoras(lat1, lon1, lat2, lon2):\n",
        "\n",
        "    lat1_rad = math.radians(lat1)\n",
        "    lon1_rad = math.radians(lon1)\n",
        "    lat2_rad = math.radians(lat2)\n",
        "    lon2_rad = math.radians(lon2)\n",
        "\n",
        "    delta_lat = lat2_rad - lat1_rad\n",
        "    delta_lon = lon2_rad - lon1_rad\n",
        "\n",
        "    avg_lat = (lat1_rad + lat2_rad) / 2\n",
        "\n",
        "    lat_degree_length = 111320\n",
        "    lon_degree_length = 111320 * math.cos(avg_lat)\n",
        "\n",
        "    delta_x = delta_lon * lon_degree_length\n",
        "    delta_y = delta_lat * lat_degree_length\n",
        "\n",
        "    distance = math.sqrt(delta_x**2 + delta_y**2)\n",
        "    return distance\n",
        "\n",
        "def calculate_distance_cosines(lat1, lon1, lat2, lon2):\n",
        "\n",
        "    R = 6371000\n",
        "\n",
        "    lat1_rad = math.radians(lat1)\n",
        "    lon1_rad = math.radians(lon1)\n",
        "    lat2_rad = math.radians(lat2)\n",
        "    lon2_rad = math.radians(lon2)\n",
        "\n",
        "    delta_lon = lon2_rad - lon1_rad\n",
        "\n",
        "    distance = math.acos(\n",
        "        math.sin(lat1_rad) * math.sin(lat2_rad) +\n",
        "        math.cos(lat1_rad) * math.cos(lat2_rad) * math.cos(delta_lon)\n",
        "    ) * R\n",
        "\n",
        "    return distance\n",
        "\n",
        "def calculate_distance_haversine(lat1, lon1, lat2, lon2):\n",
        "\n",
        "    R = 6371000\n",
        "\n",
        "    lat1_rad = math.radians(lat1)\n",
        "    lon1_rad = math.radians(lon1)\n",
        "    lat2_rad = math.radians(lat2)\n",
        "    lon2_rad = math.radians(lon2)\n",
        "\n",
        "    delta_lat = lat2_rad - lat1_rad\n",
        "    delta_lon = lon2_rad - lon1_rad\n",
        "\n",
        "    a = (math.sin(delta_lat/2)**2 +\n",
        "         math.cos(lat1_rad) * math.cos(lat2_rad) *\n",
        "         math.sin(delta_lon/2)**2)\n",
        "\n",
        "    c = 2 * math.atan2(math.sqrt(a), math.sqrt(1 - a))\n",
        "\n",
        "    distance = R * c\n",
        "    return distance\n",
        "\n",
        "def format_distance(distance_meters):\n",
        "    \"\"\"Форматирование расстояния для удобного отображения\"\"\"\n",
        "    if distance_meters < 1000:\n",
        "        return f\"{distance_meters:.2f} м\"\n",
        "    else:\n",
        "        return f\"{distance_meters/1000:.2f} км\"\n",
        "\n",
        "\n",
        "if __name__ == \"__main__\":\n",
        "\n",
        "    lat1, lon1 = 55.984722, 122.635172\n",
        "    lat2, lon2 = 66.093328, 171.079442\n",
        "\n",
        "    print(\"Координаты точек:\")\n",
        "    print(f\"Точка 1: {lat1}, {lon1} \")\n",
        "    print(f\"Точка 2: {lat2}, {lon2} \")\n",
        "    print()\n",
        "\n",
        "    dist_pythagoras = calculate_distance_pythagoras(lat1, lon1, lat2, lon2)\n",
        "    dist_cosines = calculate_distance_cosines(lat1, lon1, lat2, lon2)\n",
        "    dist_haversine = calculate_distance_haversine(lat1, lon1, lat2, lon2)\n",
        "\n",
        "    print(\"Результаты вычислений:\")\n",
        "    print(f\"По теореме Пифагора: {format_distance(dist_pythagoras)}\")\n",
        "    print(f\"По теореме косинусов: {format_distance(dist_cosines)}\")\n",
        "    print(f\"По формуле гаверсинусов: {format_distance(dist_haversine)}\")\n"
      ]
    }
  ]
}